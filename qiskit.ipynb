{
 "cells": [
  {
   "cell_type": "markdown",
   "metadata": {},
   "source": [
    "# Linear Regression\n"
   ]
  },
  {
   "cell_type": "markdown",
   "metadata": {},
   "source": [
    "# Covid-19"
   ]
  },
  {
   "cell_type": "code",
   "execution_count": null,
   "metadata": {},
   "outputs": [],
   "source": []
  },
  {
   "cell_type": "markdown",
   "metadata": {},
   "source": [
    "### 1. extract data from csv file"
   ]
  },
  {
   "cell_type": "code",
   "execution_count": 277,
   "metadata": {},
   "outputs": [],
   "source": [
    "import csv\n",
    "import numpy as np"
   ]
  },
  {
   "cell_type": "code",
   "execution_count": 278,
   "metadata": {},
   "outputs": [],
   "source": [
    "test_case_data={}\n",
    "vaccination_data={}\n",
    "vaccination_week_data={}\n",
    "header=[]"
   ]
  },
  {
   "cell_type": "code",
   "execution_count": 279,
   "metadata": {},
   "outputs": [],
   "source": [
    "from datetime import datetime\n",
    "import math\n",
    "date_pattern='%m/%d/%Y'\n",
    "start_date_2019=datetime.strptime('01/01/2019', date_pattern)\n",
    "start_date_2020=datetime.strptime('12/29/2019', date_pattern)\n",
    "start_date_2021=datetime.strptime('12/27/2020', date_pattern)\n",
    "start_date_map={\n",
    "    '2019':start_date_2019,\n",
    "    '2020':start_date_2020,\n",
    "    '2021':start_date_2021\n",
    "}\n",
    "\n",
    "def get_week(date):\n",
    "    year=date[-4:]\n",
    "    start_date=start_date_map[year]\n",
    "    real_date=datetime.strptime(date, date_pattern)\n",
    "    diff=real_date-start_date\n",
    "#     print(date, diff.days)\n",
    "    return [str(math.floor(diff.days/7)+1), year+'-'+str(math.floor(diff.days/7)+1)]\n",
    "# print(get_week('01/31/2021'))"
   ]
  },
  {
   "cell_type": "code",
   "execution_count": 280,
   "metadata": {},
   "outputs": [],
   "source": [
    "with open('COVID-19_Cases__Tests__and_Deaths_by_ZIP_Code.csv', newline='') as test_case_file:\n",
    "    reader = csv.reader(test_case_file, delimiter=',', quotechar='|')\n",
    "    headers = next(reader, None)\n",
    "    header+=headers\n",
    "    for row in reader:\n",
    "        # drop bad data\n",
    "        if row[0]==\"Unknown\":\n",
    "            continue\n",
    "        if row[0] in test_case_data:\n",
    "            test_case_data[row[0]][row[1]]=row\n",
    "        else:\n",
    "            test_case_data[row[0]]={row[1]:row}\n"
   ]
  },
  {
   "cell_type": "code",
   "execution_count": 281,
   "metadata": {},
   "outputs": [],
   "source": [
    "with open('COVID-19_Vaccinations_by_ZIP_Code.csv', newline='') as vaccination_file:\n",
    "    reader = csv.reader(vaccination_file, delimiter=',', quotechar='|')\n",
    "    headers = next(reader, None)\n",
    "#     print(headers)\n",
    "    for row in reader:\n",
    "        # drop bad data\n",
    "        if row[0]==\"Unknown\":\n",
    "            continue\n",
    "        if row[0] not in test_case_data:\n",
    "            continue\n",
    "        zipcode=row[0]\n",
    "        week_num, week_index=get_week(row[1])\n",
    "        if week_num not in test_case_data[zipcode]:\n",
    "            continue\n",
    "        total_dose_day=int(row[2])\n",
    "        total_dose_cumulate=int(row[3])\n",
    "        first_dose_day=int(row[4])\n",
    "        first_dose_cumulate=int(row[5])\n",
    "        first_dose_percent=float(row[6])\n",
    "        complete_day=int(row[7])\n",
    "        complete_cumulate=int(row[8])\n",
    "        complete_cumulate_percent=float(row[9])\n",
    "#         population=int(row[10])\n",
    "        if week_num not in vaccination_week_data:\n",
    "            vaccination_week_data[week_index]=[total_dose_day,\n",
    "                                            total_dose_cumulate,\n",
    "                                            first_dose_day,\n",
    "                                            first_dose_cumulate,\n",
    "                                            first_dose_percent,\n",
    "                                            complete_day,\n",
    "                                            complete_cumulate,\n",
    "                                            complete_cumulate_percent]\n",
    "        else:\n",
    "            vaccination_week_data[week_index][0]+=total_dose_day\n",
    "            vaccination_week_data[week_index][1]=max(vaccination_week_data[week_num][1],total_dose_cumulate)\n",
    "            vaccination_week_data[week_index][2]+=first_dose_day\n",
    "            vaccination_week_data[week_index][3]=max(vaccination_week_data[week_num][3], first_dose_cumulate)\n",
    "            vaccination_week_data[week_index][4]=max(vaccination_week_data[week_num][4], first_dose_percent)\n",
    "            vaccination_week_data[week_index][5]+=complete_day\n",
    "            vaccination_week_data[week_index][6]=max(vaccination_week_data[week_num][6], complete_cumulate)\n",
    "            vaccination_week_data[week_index][7]=max(vaccination_week_data[week_num][7], complete_cumulate_percent)\n",
    "header+=['Total Doses - weekly', 'Total Doses - Cumulative', '1st Dose - weekly', '1st Dose - Cumulative', \n",
    "         '1st Dose - Percent Population', 'Vaccine Series Completed - weekly', 'Vaccine Series Completed - Cumulative', \n",
    "         'Vaccine Series Completed  - Percent']"
   ]
  },
  {
   "cell_type": "markdown",
   "metadata": {},
   "source": [
    "### 2. Output Data"
   ]
  },
  {
   "cell_type": "code",
   "execution_count": 282,
   "metadata": {},
   "outputs": [],
   "source": [
    "with open('covid-test-vaccination-by-zip-inner-join.csv', 'w', newline='') as csvfile:\n",
    "    writer = csv.writer(csvfile, delimiter=',',\n",
    "                            quotechar='|', quoting=csv.QUOTE_MINIMAL)\n",
    "    writer.writerow(header)\n",
    "    for zipcode in test_case_data:\n",
    "        for week in test_case_data[zipcode]:\n",
    "            week_index=test_case_data[zipcode][week][2][-4:]+'-'+week\n",
    "            \n",
    "            if week_index in vaccination_week_data:\n",
    "                writer.writerow(test_case_data[zipcode][week]+vaccination_week_data[week_index])\n",
    "            else:\n",
    "                continue\n",
    "                writer.writerow(test_case_data[zipcode][week])\n"
   ]
  },
  {
   "cell_type": "code",
   "execution_count": null,
   "metadata": {},
   "outputs": [],
   "source": []
  },
  {
   "cell_type": "code",
   "execution_count": null,
   "metadata": {},
   "outputs": [],
   "source": []
  },
  {
   "cell_type": "markdown",
   "metadata": {},
   "source": [
    "# Machine Learning Section"
   ]
  },
  {
   "cell_type": "code",
   "execution_count": 283,
   "metadata": {},
   "outputs": [],
   "source": [
    "# importing necessary packages\n",
    "import qiskit\n",
    "from qiskit import QuantumCircuit, QuantumRegister, ClassicalRegister\n",
    "from qiskit import Aer, execute\n",
    "import math\n",
    "import random\n",
    "import numpy as np\n",
    "import matplotlib.pyplot as plt\n",
    "from scipy.optimize import minimize"
   ]
  },
  {
   "cell_type": "code",
   "execution_count": 284,
   "metadata": {},
   "outputs": [],
   "source": [
    "input_data: np.array"
   ]
  },
  {
   "cell_type": "code",
   "execution_count": 285,
   "metadata": {},
   "outputs": [],
   "source": [
    "with open('covid-test-vaccination-by-zip-inner-join.csv', newline='') as in_file:\n",
    "    reader = csv.reader(in_file, delimiter=',', quotechar='|')\n",
    "    headers = next(reader, None)\n",
    "    for row in reader:\n",
    "        # drop bad data\n",
    "        if row[0]==\"Unknown\":\n",
    "            continue\n",
    "        if row[0] in test_case_data:\n",
    "            test_case_data[row[0]][row[1]]=row\n",
    "        else:\n",
    "            test_case_data[row[0]]={row[1]:row}"
   ]
  },
  {
   "cell_type": "code",
   "execution_count": 286,
   "metadata": {},
   "outputs": [
    {
     "data": {
      "text/plain": [
       "<qiskit.circuit.instructionset.InstructionSet at 0x123fe7850>"
      ]
     },
     "execution_count": 286,
     "metadata": {},
     "output_type": "execute_result"
    }
   ],
   "source": [
    "x = np.arange(0,8,1)\n",
    "y = x\n",
    "\n",
    "N = len(x)\n",
    "nqubits = math.ceil(np.log2(N))\n",
    "xnorm = np.linalg.norm(x)\n",
    "ynorm = np.linalg.norm(y)\n",
    "x = x/xnorm\n",
    "y = y/ynorm\n",
    "\n",
    "circ = QuantumCircuit(nqubits+1)\n",
    "vec = np.concatenate((x,y))/np.sqrt(2)\n",
    "\n",
    "circ.initialize(vec, range(nqubits+1))\n",
    "circ.h(nqubits)\n",
    "\n",
    "# circ.draw()"
   ]
  },
  {
   "cell_type": "code",
   "execution_count": 287,
   "metadata": {},
   "outputs": [
    {
     "name": "stdout",
     "output_type": "stream",
     "text": [
      "x:  [0.         0.08451543 0.16903085 0.25354628 0.3380617  0.42257713\n",
      " 0.50709255 0.59160798]\n",
      "\n",
      "y:  [0.         0.08451543 0.16903085 0.25354628 0.3380617  0.42257713\n",
      " 0.50709255 0.59160798]\n",
      "\n",
      "The inner product of x and y equals:  0.9999999999999998\n"
     ]
    },
    {
     "name": "stderr",
     "output_type": "stream",
     "text": [
      "/Users/joshua/venv3/lib/python3.7/site-packages/ipykernel_launcher.py:15: DeprecationWarning: Using `backend_options` kwarg has been deprecated as of qiskit-aer 0.7.0 and will be removed no earlier than 3 months from that release date. Runtime backend options should now be added directly using kwargs for each option.\n",
      "  from ipykernel import kernelapp as app\n"
     ]
    }
   ],
   "source": [
    "#Calculates the inner product between two vectors\n",
    "\n",
    "def inner_prod(vec1, vec2):\n",
    "    #first check lengths are equal\n",
    "    if len(vec1) != len(vec2):\n",
    "        raise ValueError('Lengths of states are not equal')\n",
    "        \n",
    "    circ = QuantumCircuit(nqubits+1)\n",
    "    vec = np.concatenate((vec1,vec2))/np.sqrt(2)\n",
    "    \n",
    "    circ.initialize(vec, range(nqubits+1))\n",
    "    circ.h(nqubits)\n",
    "\n",
    "    backend = Aer.get_backend('statevector_simulator')\n",
    "    job = execute(circ, backend, backend_options = {\"zero_threshold\": 1e-20})\n",
    "\n",
    "    result = job.result()\n",
    "    o = np.real(result.get_statevector(circ))\n",
    "\n",
    "    m_sum = 0\n",
    "    for l in range(N):\n",
    "        m_sum += o[l]**2\n",
    "        \n",
    "    return 2*m_sum-1\n",
    "\n",
    "x = np.arange(0,8,1)\n",
    "y = x\n",
    "\n",
    "N = len(x)\n",
    "nqubits = math.ceil(np.log2(N))\n",
    "xnorm = np.linalg.norm(x)\n",
    "ynorm = np.linalg.norm(y)\n",
    "x = x/xnorm\n",
    "y = y/ynorm\n",
    "\n",
    "print(\"x: \", x)\n",
    "print()\n",
    "print(\"y: \", y)\n",
    "print()\n",
    "print(\"The inner product of x and y equals: \", inner_prod(x,y))"
   ]
  },
  {
   "cell_type": "code",
   "execution_count": 288,
   "metadata": {},
   "outputs": [
    {
     "name": "stdout",
     "output_type": "stream",
     "text": [
      "Cost function for a = 1.0 and b = 1.0 equals: 0.0399999999999999\n"
     ]
    },
    {
     "name": "stderr",
     "output_type": "stream",
     "text": [
      "/Users/joshua/venv3/lib/python3.7/site-packages/ipykernel_launcher.py:15: DeprecationWarning: Using `backend_options` kwarg has been deprecated as of qiskit-aer 0.7.0 and will be removed no earlier than 3 months from that release date. Runtime backend options should now be added directly using kwargs for each option.\n",
      "  from ipykernel import kernelapp as app\n"
     ]
    }
   ],
   "source": [
    "# Implements the entire cost function on the quantum circuit\n",
    "\n",
    "def calculate_cost_function(parameters):\n",
    "\n",
    "    a, b = parameters\n",
    "    \n",
    "    #phiphi = (xnorm/ynorm*a)**2.0 + 2.0*a*b*xnorm*np.sqrt(N)/ynorm**2*inner_prod(x,ones) + b**2*N/ynorm**2\n",
    "    \n",
    "    yphi = a*xnorm/ynorm*inner_prod(y,x) + b*np.sqrt(N)/ynorm*inner_prod(y,ones)\n",
    "    \n",
    "    #print(\"phiphi: \", phiphi)\n",
    "    #print(\"yphi: \", yphi)\n",
    "\n",
    "    #print(abs(1-float(yphi**2/phiphi)))\n",
    "    #return (1-float(yphi**2/phiphi))**2\n",
    "    \n",
    "    return (1-yphi)**2\n",
    "\n",
    "ones = np.ones(N)/np.sqrt(N)\n",
    "a = 1.0\n",
    "b = 1.0\n",
    "print(\"Cost function for a =\", a, \"and b =\", b, \"equals:\", calculate_cost_function([a,b]))"
   ]
  },
  {
   "cell_type": "code",
   "execution_count": 289,
   "metadata": {},
   "outputs": [
    {
     "name": "stderr",
     "output_type": "stream",
     "text": [
      "/Users/joshua/venv3/lib/python3.7/site-packages/ipykernel_launcher.py:15: DeprecationWarning: Using `backend_options` kwarg has been deprecated as of qiskit-aer 0.7.0 and will be removed no earlier than 3 months from that release date. Runtime backend options should now be added directly using kwargs for each option.\n",
      "  from ipykernel import kernelapp as app\n"
     ]
    },
    {
     "name": "stdout",
     "output_type": "stream",
     "text": [
      "COBYLA:       fun: 7.266216596783427e-13\n",
      "   maxcv: 0.0\n",
      " message: 'Optimization terminated successfully.'\n",
      "    nfev: 49\n",
      "  status: 1\n",
      " success: True\n",
      "       x: array([0.67538282, 1.62308164])\n",
      "BFGS:        fun: 2.8302471081655343e-18\n",
      " hess_inv: array([[1, 0],\n",
      "       [0, 1]])\n",
      "      jac: array([1.82658288e-08, 1.26897987e-09])\n",
      "  message: 'Optimization terminated successfully.'\n",
      "     nfev: 12\n",
      "      nit: 1\n",
      "     njev: 3\n",
      "   status: 0\n",
      "  success: True\n",
      "        x: array([0.88461539, 0.57692308])\n",
      "Nelder-Mead:   final_simplex: (array([[0.88463262, 0.57683689],\n",
      "       [0.88463274, 0.57683629],\n",
      "       [0.88463273, 0.57683636]]), array([0.00000000e+00, 0.00000000e+00, 4.93038066e-32]))\n",
      "           fun: 0.0\n",
      "       message: 'Optimization terminated successfully.'\n",
      "          nfev: 172\n",
      "           nit: 94\n",
      "        status: 0\n",
      "       success: True\n",
      "             x: array([0.88463262, 0.57683689])\n",
      "CG:       fun: 2.8302471081655343e-18\n",
      "     jac: array([1.82658288e-08, 1.26897987e-09])\n",
      " message: 'Optimization terminated successfully.'\n",
      "    nfev: 12\n",
      "     nit: 1\n",
      "    njev: 3\n",
      "  status: 0\n",
      " success: True\n",
      "       x: array([0.88461539, 0.57692308])\n",
      "trust-constr:           cg_niter: 2\n",
      "     cg_stop_cond: 4\n",
      "           constr: []\n",
      "      constr_nfev: []\n",
      "      constr_nhev: []\n",
      "      constr_njev: []\n",
      "   constr_penalty: 1.0\n",
      " constr_violation: 0\n",
      "   execution_time: 0.04019498825073242\n",
      "              fun: 6.487017655981686e-17\n",
      "             grad: array([-1.20724384e-09, -2.62563447e-09])\n",
      "              jac: []\n",
      "  lagrangian_grad: array([-1.20724384e-09, -2.62563447e-09])\n",
      "          message: '`gtol` termination condition is satisfied.'\n",
      "           method: 'equality_constrained_sqp'\n",
      "             nfev: 9\n",
      "             nhev: 0\n",
      "              nit: 3\n",
      "            niter: 3\n",
      "             njev: 0\n",
      "       optimality: 2.625634473328858e-09\n",
      "           status: 1\n",
      "          success: True\n",
      "        tr_radius: 2.745625836650012\n",
      "                v: []\n",
      "                x: array([0.88461538, 0.57692308])\n"
     ]
    },
    {
     "name": "stderr",
     "output_type": "stream",
     "text": [
      "/Users/joshua/venv3/lib/python3.7/site-packages/ipykernel_launcher.py:15: DeprecationWarning: Using `backend_options` kwarg has been deprecated as of qiskit-aer 0.7.0 and will be removed no earlier than 3 months from that release date. Runtime backend options should now be added directly using kwargs for each option.\n",
      "  from ipykernel import kernelapp as app\n",
      "/Users/joshua/venv3/lib/python3.7/site-packages/ipykernel_launcher.py:15: DeprecationWarning: Using `backend_options` kwarg has been deprecated as of qiskit-aer 0.7.0 and will be removed no earlier than 3 months from that release date. Runtime backend options should now be added directly using kwargs for each option.\n",
      "  from ipykernel import kernelapp as app\n"
     ]
    },
    {
     "data": {
      "image/png": "[encoded data removed]",
      "text/plain": [
       "<Figure size 432x288 with 1 Axes>"
      ]
     },
     "metadata": {
      "needs_background": "light"
     },
     "output_type": "display_data"
    }
   ],
   "source": [
    "#first set up the data sets x and y\n",
    "\n",
    "x = np.arange(0,8,1)\n",
    "y = x #+ [random.uniform(-1,1) for p in range(8)]\n",
    "N = len(x)\n",
    "nqubits = math.ceil(np.log2(N))\n",
    "\n",
    "ones = np.ones(N)/np.sqrt(N)    #need a normalised ones' state for including the parameter b\n",
    "\n",
    "xnorm = np.linalg.norm(x)       #normalise data sets\n",
    "ynorm = np.linalg.norm(y)\n",
    "x = x/xnorm\n",
    "y = y/ynorm\n",
    "\n",
    "#x0 = [random.uniform(0,2) for p in range(2)]    #random initial guess for a and b\n",
    "x0 = [0.5,0.5]\n",
    "\n",
    "#now use different classical optimisers to see which one works best\n",
    "\n",
    "out = minimize(calculate_cost_function, x0=x0, method=\"BFGS\", options={'maxiter':200}, tol=1e-6)\n",
    "out1 = minimize(calculate_cost_function, x0=x0, method=\"COBYLA\", options={'maxiter':200}, tol=1e-6)\n",
    "out2 = minimize(calculate_cost_function, x0=x0, method=\"Nelder-Mead\", options={'maxiter':200}, tol=1e-6)\n",
    "out3 = minimize(calculate_cost_function, x0=x0, method=\"CG\", options={'maxiter':200}, tol=1e-6)\n",
    "out4 = minimize(calculate_cost_function, x0=x0, method=\"trust-constr\", options={'maxiter':200}, tol=1e-6)\n",
    "\n",
    "out_a1 = out1['x'][0]\n",
    "out_b1 = out1['x'][1]\n",
    "\n",
    "print(\"COBYLA: \", out1)\n",
    "\n",
    "out_a = out['x'][0]\n",
    "out_b = out['x'][1]\n",
    "\n",
    "print(\"BFGS: \", out)\n",
    "\n",
    "out_a2 = out2['x'][0]\n",
    "out_b2 = out2['x'][1]\n",
    "\n",
    "print(\"Nelder-Mead: \", out2)\n",
    "\n",
    "out_a3 = out3['x'][0]\n",
    "out_b3 = out3['x'][1]\n",
    "\n",
    "print(\"CG: \", out3)\n",
    "\n",
    "out_a4 = out4['x'][0]\n",
    "out_b4 = out4['x'][1]\n",
    "\n",
    "print(\"trust-constr: \", out4)\n",
    "\n",
    "plt.scatter(x*xnorm,y*ynorm)\n",
    "xfit = np.linspace(min(x)*xnorm, max(x)*xnorm, 100)\n",
    "#plt.plot(xfit, preout['x'][0]*xfit+preout['x'][1], label='Basinhopping')\n",
    "plt.plot(xfit, out_a*xfit+out_b, label='BFGS')\n",
    "plt.plot(xfit, out_a1*xfit+out_b1, label='COBYLA')\n",
    "plt.plot(xfit, out_a2*xfit+out_b2, label='Nelder-Mead')\n",
    "plt.plot(xfit, out_a3*xfit+out_b3, label='CG')\n",
    "plt.plot(xfit, out_a4*xfit+out_b4, label='trust-constr')\n",
    "plt.legend()\n",
    "plt.title(\"y = x\")\n",
    "plt.xlabel(\"x\")\n",
    "plt.ylabel(\"y\")\n",
    "plt.show()"
   ]
  },
  {
   "cell_type": "code",
   "execution_count": null,
   "metadata": {},
   "outputs": [],
   "source": []
  },
  {
   "cell_type": "code",
   "execution_count": null,
   "metadata": {},
   "outputs": [],
   "source": []
  }
 ],
 "metadata": {
  "kernelspec": {
   "display_name": "Python 3",
   "language": "python",
   "name": "python3"
  },
  "language_info": {
   "codemirror_mode": {
    "name": "ipython",
    "version": 3
   },
   "file_extension": ".py",
   "mimetype": "text/x-python",
   "name": "python",
   "nbconvert_exporter": "python",
   "pygments_lexer": "ipython3",
   "version": "3.7.5"
  }
 },
 "nbformat": 4,
 "nbformat_minor": 4
}
